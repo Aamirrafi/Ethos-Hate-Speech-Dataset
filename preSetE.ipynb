{
 "cells": [
  {
   "cell_type": "markdown",
   "metadata": {
    "colab_type": "text",
    "id": "thPHkgtCN1zs"
   },
   "source": [
    "# Pre Set E ML dataset analysis\n",
    "\n"
   ]
  },
  {
   "cell_type": "code",
   "execution_count": 1,
   "metadata": {
    "colab": {},
    "colab_type": "code",
    "id": "eUrbFYOgZ29_"
   },
   "outputs": [
    {
     "data": {
      "text/plain": [
       "'\\n#####################################################################\\n#                     MultiLabel Analysis                           #\\n#####################################################################\\n# In this notebook, we will analyze the multi-label information in  #\\n# this new dataset.                                                 #\\n'"
      ]
     },
     "execution_count": 1,
     "metadata": {},
     "output_type": "execute_result"
    }
   ],
   "source": [
    "\"\"\"\"\"\"\"\"\"\"\"\"\"\"\"\"\"\"\"\"\"\"\"\"\"\"\"\"\"\"\"\"\"\"\"\"\"\"\"\"\"\"\"\"\"\"\"\"\"\"\"\"\"\"\"\"\"\"\"\"\"\"\"\"\"\"\"\"\"\n",
    "#####################################################################\n",
    "#                     MultiLabel Analysis                           #\n",
    "#####################################################################\n",
    "# In this notebook, we will analyze the multi-label information in  #\n",
    "# this new dataset.                                                 #\n",
    "\"\"\"\"\"\"\"\"\"\"\"\"\"\"\"\"\"\"\"\"\"\"\"\"\"\"\"\"\"\"\"\"\"\"\"\"\"\"\"\"\"\"\"\"\"\"\"\"\"\"\"\"\"\"\"\"\"\"\"\"\"\"\"\"\"\"\"\"\""
   ]
  },
  {
   "cell_type": "markdown",
   "metadata": {
    "colab_type": "text",
    "id": "gy7mrtpKOEil"
   },
   "source": [
    "We will need some libraries for our multi label experiments"
   ]
  },
  {
   "cell_type": "code",
   "execution_count": 2,
   "metadata": {
    "colab": {
     "base_uri": "https://localhost:8080/",
     "height": 85
    },
    "colab_type": "code",
    "id": "ZHwpyCf6qfOV",
    "outputId": "7772c8ea-28c4-4704-d839-f1d31e9eb621"
   },
   "outputs": [
    {
     "name": "stderr",
     "output_type": "stream",
     "text": [
      "[nltk_data] Downloading package wordnet to\n",
      "[nltk_data]     /Users/johnmollas/nltk_data...\n",
      "[nltk_data]   Package wordnet is already up-to-date!\n",
      "[nltk_data] Downloading package stopwords to\n",
      "[nltk_data]     /Users/johnmollas/nltk_data...\n",
      "[nltk_data]   Package stopwords is already up-to-date!\n"
     ]
    }
   ],
   "source": [
    "import pandas as pd\n",
    "from sklearn.model_selection import StratifiedKFold, KFold\n",
    "pd.set_option('max_colwidth',400)\n",
    "from preprocess import Preproccesor\n",
    "from sklearn.metrics import confusion_matrix, f1_score, accuracy_score, precision_score, recall_score, average_precision_score, hamming_loss, precision_recall_curve\n",
    "\n",
    "\n",
    "import time\n",
    "import numpy as np\n",
    "import nltk\n",
    "nltk.download('wordnet')\n",
    "nltk.download('stopwords')\n",
    "X, yt, y = Preproccesor.load_multi_label_data(True) #yt has continuous data, y has binary\n",
    "label_names = [\"violence\",\"directed_vs_generalized\",\"gender\",\"race\",\"national_origin\",\"disability\",\"religion\",\"sexual_orientation\"]"
   ]
  },
  {
   "cell_type": "code",
   "execution_count": 3,
   "metadata": {},
   "outputs": [],
   "source": [
    "df = pd.DataFrame(y,columns=label_names)"
   ]
  },
  {
   "cell_type": "code",
   "execution_count": 4,
   "metadata": {},
   "outputs": [],
   "source": [
    "table = {\"gender\":[0,0,0,0],\"race\":[0,0,0,0],\"national_origin\":[0,0,0,0],\"disability\":[0,0,0,0],\"religion\":[0,0,0,0],\"sexual_orientation\":[0,0,0,0]}\n",
    "for i in y:\n",
    "    j = -1\n",
    "    if i[0] == 1 and i[1] == 1:\n",
    "        j = 0\n",
    "    elif i[0] == 0 and i[1] == 1:\n",
    "        j = 1\n",
    "    elif i[0] == 1 and i[1] == 0:\n",
    "        j = 2\n",
    "    elif i[0] == 0 and i[1] == 0:\n",
    "        j = 3\n",
    "    table[\"gender\"][j] = table[\"gender\"][j] + i[2]\n",
    "    table[\"race\"][j] = table[\"race\"][j] + i[3]\n",
    "    table[\"national_origin\"][j] = table[\"national_origin\"][j] + i[4]\n",
    "    table[\"disability\"][j] = table[\"disability\"][j] + i[5]\n",
    "    table[\"religion\"][j] = table[\"religion\"][j] + i[6]\n",
    "    table[\"sexual_orientation\"][j] = table[\"sexual_orientation\"][j] + i[7]"
   ]
  },
  {
   "cell_type": "code",
   "execution_count": 5,
   "metadata": {},
   "outputs": [
    {
     "data": {
      "text/plain": [
       "[[14, 22, 13, 37],\n",
       " [4, 13, 12, 47],\n",
       " [5, 11, 18, 40],\n",
       " [12, 15, 8, 18],\n",
       " [11, 8, 24, 38],\n",
       " [11, 15, 11, 36]]"
      ]
     },
     "execution_count": 5,
     "metadata": {},
     "output_type": "execute_result"
    }
   ],
   "source": [
    "list(table.values())"
   ]
  },
  {
   "cell_type": "markdown",
   "metadata": {
    "colab_type": "text",
    "id": "tWKv0II7POsL"
   },
   "source": [
    "Now lets compute the **density** and the **cardinality** of the dataset, as well as the local cardinality and density (for each label).\n",
    "\n",
    "\n"
   ]
  },
  {
   "cell_type": "code",
   "execution_count": 6,
   "metadata": {
    "colab": {
     "base_uri": "https://localhost:8080/",
     "height": 424
    },
    "colab_type": "code",
    "id": "8HKaEE6jqkry",
    "outputId": "00ffb3cb-2e69-402d-e385-8ab61d4fcbba"
   },
   "outputs": [
    {
     "name": "stdout",
     "output_type": "stream",
     "text": [
      "Dataset Total Cardinality: 1.6628175519630484 , Cont: 1.6423591467829104\n",
      "Dataset Total Desnity: 0.20785219399538105 , Cont: 0.2052948933478638\n"
     ]
    },
    {
     "data": {
      "text/html": [
       "<div>\n",
       "<style scoped>\n",
       "    .dataframe tbody tr th:only-of-type {\n",
       "        vertical-align: middle;\n",
       "    }\n",
       "\n",
       "    .dataframe tbody tr th {\n",
       "        vertical-align: top;\n",
       "    }\n",
       "\n",
       "    .dataframe thead th {\n",
       "        text-align: right;\n",
       "    }\n",
       "</style>\n",
       "<table border=\"1\" class=\"dataframe\">\n",
       "  <thead>\n",
       "    <tr style=\"text-align: right;\">\n",
       "      <th></th>\n",
       "      <th>category</th>\n",
       "      <th>number_of_comments</th>\n",
       "      <th>number_of_comments_cont</th>\n",
       "      <th>local_cardinality</th>\n",
       "      <th>local_cardinality_cont</th>\n",
       "      <th>local_density</th>\n",
       "      <th>local_density_cont</th>\n",
       "    </tr>\n",
       "  </thead>\n",
       "  <tbody>\n",
       "    <tr>\n",
       "      <th>0</th>\n",
       "      <td>violence</td>\n",
       "      <td>142</td>\n",
       "      <td>142.287849</td>\n",
       "      <td>0.327945</td>\n",
       "      <td>0.328609</td>\n",
       "      <td>0.040993</td>\n",
       "      <td>0.041076</td>\n",
       "    </tr>\n",
       "    <tr>\n",
       "      <th>1</th>\n",
       "      <td>directed_vs_generalized</td>\n",
       "      <td>135</td>\n",
       "      <td>130.423116</td>\n",
       "      <td>0.311778</td>\n",
       "      <td>0.301208</td>\n",
       "      <td>0.038972</td>\n",
       "      <td>0.037651</td>\n",
       "    </tr>\n",
       "    <tr>\n",
       "      <th>2</th>\n",
       "      <td>gender</td>\n",
       "      <td>86</td>\n",
       "      <td>96.002304</td>\n",
       "      <td>0.198614</td>\n",
       "      <td>0.221714</td>\n",
       "      <td>0.024827</td>\n",
       "      <td>0.027714</td>\n",
       "    </tr>\n",
       "    <tr>\n",
       "      <th>3</th>\n",
       "      <td>race</td>\n",
       "      <td>76</td>\n",
       "      <td>76.592069</td>\n",
       "      <td>0.175520</td>\n",
       "      <td>0.176887</td>\n",
       "      <td>0.021940</td>\n",
       "      <td>0.022111</td>\n",
       "    </tr>\n",
       "    <tr>\n",
       "      <th>4</th>\n",
       "      <td>national_origin</td>\n",
       "      <td>74</td>\n",
       "      <td>75.152546</td>\n",
       "      <td>0.170901</td>\n",
       "      <td>0.173562</td>\n",
       "      <td>0.021363</td>\n",
       "      <td>0.021695</td>\n",
       "    </tr>\n",
       "    <tr>\n",
       "      <th>5</th>\n",
       "      <td>disability</td>\n",
       "      <td>53</td>\n",
       "      <td>51.194048</td>\n",
       "      <td>0.122402</td>\n",
       "      <td>0.118231</td>\n",
       "      <td>0.015300</td>\n",
       "      <td>0.014779</td>\n",
       "    </tr>\n",
       "    <tr>\n",
       "      <th>6</th>\n",
       "      <td>religion</td>\n",
       "      <td>81</td>\n",
       "      <td>73.715160</td>\n",
       "      <td>0.187067</td>\n",
       "      <td>0.170243</td>\n",
       "      <td>0.023383</td>\n",
       "      <td>0.021280</td>\n",
       "    </tr>\n",
       "    <tr>\n",
       "      <th>7</th>\n",
       "      <td>sexual_orientation</td>\n",
       "      <td>73</td>\n",
       "      <td>65.774418</td>\n",
       "      <td>0.168591</td>\n",
       "      <td>0.151904</td>\n",
       "      <td>0.021074</td>\n",
       "      <td>0.018988</td>\n",
       "    </tr>\n",
       "  </tbody>\n",
       "</table>\n",
       "</div>"
      ],
      "text/plain": [
       "                  category  number_of_comments  number_of_comments_cont  \\\n",
       "0                 violence                 142               142.287849   \n",
       "1  directed_vs_generalized                 135               130.423116   \n",
       "2                   gender                  86                96.002304   \n",
       "3                     race                  76                76.592069   \n",
       "4          national_origin                  74                75.152546   \n",
       "5               disability                  53                51.194048   \n",
       "6                 religion                  81                73.715160   \n",
       "7       sexual_orientation                  73                65.774418   \n",
       "\n",
       "   local_cardinality  local_cardinality_cont  local_density  \\\n",
       "0           0.327945                0.328609       0.040993   \n",
       "1           0.311778                0.301208       0.038972   \n",
       "2           0.198614                0.221714       0.024827   \n",
       "3           0.175520                0.176887       0.021940   \n",
       "4           0.170901                0.173562       0.021363   \n",
       "5           0.122402                0.118231       0.015300   \n",
       "6           0.187067                0.170243       0.023383   \n",
       "7           0.168591                0.151904       0.021074   \n",
       "\n",
       "   local_density_cont  \n",
       "0            0.041076  \n",
       "1            0.037651  \n",
       "2            0.027714  \n",
       "3            0.022111  \n",
       "4            0.021695  \n",
       "5            0.014779  \n",
       "6            0.021280  \n",
       "7            0.018988  "
      ]
     },
     "execution_count": 6,
     "metadata": {},
     "output_type": "execute_result"
    }
   ],
   "source": [
    "categories = list(yt)\n",
    "counts = []\n",
    "for i in range(0,len(y[0])):\n",
    "    counts.append((label_names[i], sum(y[:,i]), sum(yt[:,i]), sum(y[:,i])/len(y),sum(yt[:,i])/len(yt), (sum(y[:,i])/len(y[0]))/len(y),(sum(yt[:,i])/len(yt[0]))/len(yt))) #Sum is okay because y it countains 0 and 1s so it will count the labels that exist\n",
    "df_stats = pd.DataFrame(counts, columns = ['category', 'number_of_comments', 'number_of_comments_cont', 'local_cardinality', 'local_cardinality_cont', 'local_density', 'local_density_cont'])\n",
    "print(\"Dataset Total Cardinality:\",sum(df_stats['local_cardinality'].values),\", Cont:\",sum(df_stats['local_cardinality_cont'].values))\n",
    "print(\"Dataset Total Desnity:\",sum(df_stats['local_density'].values),\", Cont:\",sum(df_stats['local_density_cont'].values))\n",
    "df_stats"
   ]
  },
  {
   "cell_type": "code",
   "execution_count": 7,
   "metadata": {
    "colab": {
     "base_uri": "https://localhost:8080/",
     "height": 452
    },
    "colab_type": "code",
    "id": "jVqoKkUOqoLZ",
    "outputId": "0d3c4771-5bfe-4c58-ea94-1ab66f2d0315"
   },
   "outputs": [
    {
     "data": {
      "text/plain": [
       "Text(0.5, 0, 'category')"
      ]
     },
     "execution_count": 7,
     "metadata": {},
     "output_type": "execute_result"
    },
    {
     "data": {
      "image/png": "[encoded data removed]",
      "text/plain": [
       "<Figure size 576x360 with 1 Axes>"
      ]
     },
     "metadata": {
      "needs_background": "light"
     },
     "output_type": "display_data"
    }
   ],
   "source": [
    "import matplotlib.pyplot as plt\n",
    "%matplotlib inline\n",
    "\n",
    "df_stats.plot(x='category', y='number_of_comments', kind='bar', legend=False, grid=True, figsize=(8, 5))\n",
    "plt.title(\"Number of comments per category\")\n",
    "plt.ylabel('# of Occurrences', fontsize=12)\n",
    "plt.xlabel('category', fontsize=12)"
   ]
  }
 ],
 "metadata": {
  "accelerator": "GPU",
  "colab": {
   "collapsed_sections": [],
   "machine_shape": "hm",
   "name": "PreSetE.ipynb",
   "provenance": [],
   "toc_visible": true,
   "version": "0.3.2"
  },
  "kernelspec": {
   "display_name": "Python 3",
   "language": "python",
   "name": "python3"
  },
  "language_info": {
   "codemirror_mode": {
    "name": "ipython",
    "version": 3
   },
   "file_extension": ".py",
   "mimetype": "text/x-python",
   "name": "python",
   "nbconvert_exporter": "python",
   "pygments_lexer": "ipython3",
   "version": "3.7.0"
  }
 },
 "nbformat": 4,
 "nbformat_minor": 1
}
