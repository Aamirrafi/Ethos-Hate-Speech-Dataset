{
 "cells": [
  {
   "cell_type": "markdown",
   "metadata": {
    "colab_type": "text",
    "id": "thPHkgtCN1zs"
   },
   "source": [
    "# Pre Set E ML dataset analysis\n",
    "\n"
   ]
  },
  {
   "cell_type": "code",
   "execution_count": 0,
   "metadata": {
    "colab": {},
    "colab_type": "code",
    "collapsed": true,
    "id": "eUrbFYOgZ29_"
   },
   "outputs": [],
   "source": [
    "\"\"\"\"\"\"\"\"\"\"\"\"\"\"\"\"\"\"\"\"\"\"\"\"\"\"\"\"\"\"\"\"\"\"\"\"\"\"\"\"\"\"\"\"\"\"\"\"\"\"\"\"\"\"\"\"\"\"\"\"\"\"\"\"\"\"\"\"\"\n",
    "#####################################################################\n",
    "#                     MultiLabel Analysis                           #\n",
    "#####################################################################\n",
    "# In this notebook, we will analyze the multi-label information in  #\n",
    "# this new dataset. We will plot the density and cardinality of the #\n",
    "# labels, and we will find the graph with the label relations as    #\n",
    "# well.                                                             #\n",
    "\"\"\"\"\"\"\"\"\"\"\"\"\"\"\"\"\"\"\"\"\"\"\"\"\"\"\"\"\"\"\"\"\"\"\"\"\"\"\"\"\"\"\"\"\"\"\"\"\"\"\"\"\"\"\"\"\"\"\"\"\"\"\"\"\"\"\"\"\""
   ]
  },
  {
   "cell_type": "markdown",
   "metadata": {
    "colab_type": "text",
    "id": "gy7mrtpKOEil"
   },
   "source": [
    "We will need some libraries for our multi label experiments"
   ]
  },
  {
   "cell_type": "code",
   "execution_count": 2,
   "metadata": {
    "colab": {
     "base_uri": "https://localhost:8080/",
     "height": 431.0
    },
    "colab_type": "code",
    "id": "iFl1lVtKqcBA",
    "outputId": "0c0249be-eaec-4329-e2d4-5855f6521a2a"
   },
   "outputs": [
    {
     "name": "stdout",
     "output_type": "stream",
     "text": [
      "Collecting scikit-multilearn\n",
      "\u001b[?25l  Downloading https://files.pythonhosted.org/packages/bb/1f/e6ff649c72a1cdf2c7a1d31eb21705110ce1c5d3e7e26b2cc300e1637272/scikit_multilearn-0.2.0-py3-none-any.whl (89kB)\n",
      "\r",
      "\u001b[K     |███▊                            | 10kB 17.4MB/s eta 0:00:01\r",
      "\u001b[K     |███████▍                        | 20kB 1.8MB/s eta 0:00:01\r",
      "\u001b[K     |███████████                     | 30kB 2.7MB/s eta 0:00:01\r",
      "\u001b[K     |██████████████▊                 | 40kB 1.7MB/s eta 0:00:01\r",
      "\u001b[K     |██████████████████▍             | 51kB 2.2MB/s eta 0:00:01\r",
      "\u001b[K     |██████████████████████          | 61kB 2.6MB/s eta 0:00:01\r",
      "\u001b[K     |█████████████████████████▊      | 71kB 3.0MB/s eta 0:00:01\r",
      "\u001b[K     |█████████████████████████████▍  | 81kB 3.4MB/s eta 0:00:01\r",
      "\u001b[K     |████████████████████████████████| 92kB 3.6MB/s \n",
      "\u001b[?25hInstalling collected packages: scikit-multilearn\n",
      "Successfully installed scikit-multilearn-0.2.0\n",
      "Collecting iterative-stratification\n",
      "  Downloading https://files.pythonhosted.org/packages/9d/79/9ba64c8c07b07b8b45d80725b2ebd7b7884701c1da34f70d4749f7b45f9a/iterative_stratification-0.1.6-py3-none-any.whl\n",
      "Requirement already satisfied: scikit-learn in /usr/local/lib/python3.6/dist-packages (from iterative-stratification) (0.21.3)\n",
      "Requirement already satisfied: numpy in /usr/local/lib/python3.6/dist-packages (from iterative-stratification) (1.16.5)\n",
      "Requirement already satisfied: scipy in /usr/local/lib/python3.6/dist-packages (from iterative-stratification) (1.3.1)\n",
      "Requirement already satisfied: joblib>=0.11 in /usr/local/lib/python3.6/dist-packages (from scikit-learn->iterative-stratification) (0.13.2)\n",
      "Installing collected packages: iterative-stratification\n",
      "Successfully installed iterative-stratification-0.1.6\n",
      "Requirement already satisfied: python-louvain in /usr/local/lib/python3.6/dist-packages (0.13)\n",
      "Requirement already satisfied: networkx in /usr/local/lib/python3.6/dist-packages (from python-louvain) (2.3)\n",
      "Requirement already satisfied: decorator>=4.3.0 in /usr/local/lib/python3.6/dist-packages (from networkx->python-louvain) (4.4.0)\n"
     ]
    }
   ],
   "source": [
    "!pip install scikit-multilearn\n",
    "!pip install iterative-stratification\n",
    "!pip install python-louvain"
   ]
  },
  {
   "cell_type": "code",
   "execution_count": 3,
   "metadata": {
    "colab": {
     "base_uri": "https://localhost:8080/",
     "height": 85.0
    },
    "colab_type": "code",
    "id": "ZHwpyCf6qfOV",
    "outputId": "7772c8ea-28c4-4704-d839-f1d31e9eb621"
   },
   "outputs": [
    {
     "name": "stdout",
     "output_type": "stream",
     "text": [
      "[nltk_data] Downloading package wordnet to /root/nltk_data...\n",
      "[nltk_data]   Unzipping corpora/wordnet.zip.\n",
      "[nltk_data] Downloading package stopwords to /root/nltk_data...\n",
      "[nltk_data]   Unzipping corpora/stopwords.zip.\n"
     ]
    }
   ],
   "source": [
    "import pandas as pd\n",
    "from sklearn.model_selection import StratifiedKFold, KFold\n",
    "pd.set_option('max_colwidth',400)\n",
    "from preprocess import Preproccesor\n",
    "from sklearn.metrics import confusion_matrix, f1_score, accuracy_score, precision_score, recall_score, average_precision_score, hamming_loss, precision_recall_curve\n",
    "\n",
    "\n",
    "import time\n",
    "import numpy as np\n",
    "import nltk\n",
    "nltk.download('wordnet')\n",
    "nltk.download('stopwords')\n",
    "X, yt, y = Preproccesor.load_multi_label_data(True) #yt has continuous data, y has binary\n",
    "label_names = [\"isHate\",\"isViolence\",\"isNotViolence\",\"isGeneralized\",\"isDirected\",\"gender\",\"race\",\"national_origin\",\"disability\",\"religion\",\"sexual_orientation\"]"
   ]
  },
  {
   "cell_type": "markdown",
   "metadata": {
    "colab_type": "text",
    "id": "tWKv0II7POsL"
   },
   "source": [
    "Now lets compute the **density** and the **cardinality** of the dataset, as well as the local cardinality and density (for each label).\n",
    "\n",
    "\n"
   ]
  },
  {
   "cell_type": "code",
   "execution_count": 4,
   "metadata": {
    "colab": {
     "base_uri": "https://localhost:8080/",
     "height": 424.0
    },
    "colab_type": "code",
    "id": "8HKaEE6jqkry",
    "outputId": "00ffb3cb-2e69-402d-e385-8ab61d4fcbba",
    "collapsed": false
   },
   "outputs": [
    {
     "name": "stdout",
     "output_type": "stream",
     "text": [
      "Dataset Total Cardinality: 1.652304609218437 , Cont: 1.6285020698625066\n",
      "Dataset Total Desnity: 0.1502095099289488 , Cont: 0.14804564271477333\n"
     ]
    },
    {
     "data": {
      "text/html": [
       "<div>\n",
       "<style scoped>\n",
       "    .dataframe tbody tr th:only-of-type {\n",
       "        vertical-align: middle;\n",
       "    }\n",
       "\n",
       "    .dataframe tbody tr th {\n",
       "        vertical-align: top;\n",
       "    }\n",
       "\n",
       "    .dataframe thead th {\n",
       "        text-align: right;\n",
       "    }\n",
       "</style>\n",
       "<table border=\"1\" class=\"dataframe\">\n",
       "  <thead>\n",
       "    <tr style=\"text-align: right;\">\n",
       "      <th></th>\n",
       "      <th>category</th>\n",
       "      <th>number_of_comments</th>\n",
       "      <th>number_of_comments_cont</th>\n",
       "      <th>local_cardinality</th>\n",
       "      <th>local_cardinality_cont</th>\n",
       "      <th>local_density</th>\n",
       "      <th>local_density_cont</th>\n",
       "    </tr>\n",
       "  </thead>\n",
       "  <tbody>\n",
       "    <tr>\n",
       "      <th>0</th>\n",
       "      <td>isHate</td>\n",
       "      <td>433</td>\n",
       "      <td>399.954153</td>\n",
       "      <td>0.433868</td>\n",
       "      <td>0.400756</td>\n",
       "      <td>0.039443</td>\n",
       "      <td>0.036432</td>\n",
       "    </tr>\n",
       "    <tr>\n",
       "      <th>1</th>\n",
       "      <td>isViolence</td>\n",
       "      <td>125</td>\n",
       "      <td>127.537009</td>\n",
       "      <td>0.125251</td>\n",
       "      <td>0.127793</td>\n",
       "      <td>0.011386</td>\n",
       "      <td>0.011618</td>\n",
       "    </tr>\n",
       "    <tr>\n",
       "      <th>2</th>\n",
       "      <td>isNotViolence</td>\n",
       "      <td>297</td>\n",
       "      <td>291.269382</td>\n",
       "      <td>0.297595</td>\n",
       "      <td>0.291853</td>\n",
       "      <td>0.027054</td>\n",
       "      <td>0.026532</td>\n",
       "    </tr>\n",
       "    <tr>\n",
       "      <th>3</th>\n",
       "      <td>isGeneralized</td>\n",
       "      <td>301</td>\n",
       "      <td>276.683943</td>\n",
       "      <td>0.301603</td>\n",
       "      <td>0.277238</td>\n",
       "      <td>0.027418</td>\n",
       "      <td>0.025203</td>\n",
       "    </tr>\n",
       "    <tr>\n",
       "      <th>4</th>\n",
       "      <td>isDirected</td>\n",
       "      <td>115</td>\n",
       "      <td>123.639256</td>\n",
       "      <td>0.115230</td>\n",
       "      <td>0.123887</td>\n",
       "      <td>0.010475</td>\n",
       "      <td>0.011262</td>\n",
       "    </tr>\n",
       "    <tr>\n",
       "      <th>5</th>\n",
       "      <td>gender</td>\n",
       "      <td>70</td>\n",
       "      <td>88.893719</td>\n",
       "      <td>0.070140</td>\n",
       "      <td>0.089072</td>\n",
       "      <td>0.006376</td>\n",
       "      <td>0.008097</td>\n",
       "    </tr>\n",
       "    <tr>\n",
       "      <th>6</th>\n",
       "      <td>race</td>\n",
       "      <td>66</td>\n",
       "      <td>70.056904</td>\n",
       "      <td>0.066132</td>\n",
       "      <td>0.070197</td>\n",
       "      <td>0.006012</td>\n",
       "      <td>0.006382</td>\n",
       "    </tr>\n",
       "    <tr>\n",
       "      <th>7</th>\n",
       "      <td>national_origin</td>\n",
       "      <td>62</td>\n",
       "      <td>67.083703</td>\n",
       "      <td>0.062124</td>\n",
       "      <td>0.067218</td>\n",
       "      <td>0.005648</td>\n",
       "      <td>0.006111</td>\n",
       "    </tr>\n",
       "    <tr>\n",
       "      <th>8</th>\n",
       "      <td>disability</td>\n",
       "      <td>49</td>\n",
       "      <td>49.136395</td>\n",
       "      <td>0.049098</td>\n",
       "      <td>0.049235</td>\n",
       "      <td>0.004463</td>\n",
       "      <td>0.004476</td>\n",
       "    </tr>\n",
       "    <tr>\n",
       "      <th>9</th>\n",
       "      <td>religion</td>\n",
       "      <td>71</td>\n",
       "      <td>67.295235</td>\n",
       "      <td>0.071142</td>\n",
       "      <td>0.067430</td>\n",
       "      <td>0.006467</td>\n",
       "      <td>0.006130</td>\n",
       "    </tr>\n",
       "    <tr>\n",
       "      <th>10</th>\n",
       "      <td>sexual_orientation</td>\n",
       "      <td>60</td>\n",
       "      <td>63.695368</td>\n",
       "      <td>0.060120</td>\n",
       "      <td>0.063823</td>\n",
       "      <td>0.005465</td>\n",
       "      <td>0.005802</td>\n",
       "    </tr>\n",
       "  </tbody>\n",
       "</table>\n",
       "</div>"
      ],
      "text/plain": [
       "              category  number_of_comments  ...  local_density  local_density_cont\n",
       "0               isHate                 433  ...       0.039443            0.036432\n",
       "1           isViolence                 125  ...       0.011386            0.011618\n",
       "2        isNotViolence                 297  ...       0.027054            0.026532\n",
       "3        isGeneralized                 301  ...       0.027418            0.025203\n",
       "4           isDirected                 115  ...       0.010475            0.011262\n",
       "5               gender                  70  ...       0.006376            0.008097\n",
       "6                 race                  66  ...       0.006012            0.006382\n",
       "7      national_origin                  62  ...       0.005648            0.006111\n",
       "8           disability                  49  ...       0.004463            0.004476\n",
       "9             religion                  71  ...       0.006467            0.006130\n",
       "10  sexual_orientation                  60  ...       0.005465            0.005802\n",
       "\n",
       "[11 rows x 7 columns]"
      ]
     },
     "execution_count": 4,
     "metadata": {
      "tags": []
     },
     "output_type": "execute_result"
    }
   ],
   "source": [
    "categories = list(yt)\n",
    "counts = []\n",
    "for i in range(0,len(y[0])):\n",
    "    counts.append((label_names[i], sum(y[:,i]), sum(yt[:,i]), sum(y[:,i])/len(y),sum(yt[:,i])/len(yt), (sum(y[:,i])/len(y[0]))/len(y),(sum(yt[:,i])/len(yt[0]))/len(yt))) #Sum is okay because y it countains 0 and 1s so it will count the labels that exist\n",
    "df_stats = pd.DataFrame(counts, columns = ['category', 'number_of_comments', 'number_of_comments_cont', 'local_cardinality', 'local_cardinality_cont', 'local_density', 'local_density_cont'])\n",
    "print(\"Dataset Total Cardinality:\",sum(df_stats['local_cardinality'].values),\", Cont:\",sum(df_stats['local_cardinality_cont'].values))\n",
    "print(\"Dataset Total Desnity:\",sum(df_stats['local_density'].values),\", Cont:\",sum(df_stats['local_density_cont'].values))\n",
    "df_stats"
   ]
  },
  {
   "cell_type": "code",
   "execution_count": 5,
   "metadata": {
    "colab": {
     "base_uri": "https://localhost:8080/",
     "height": 452.0
    },
    "colab_type": "code",
    "id": "jVqoKkUOqoLZ",
    "outputId": "0d3c4771-5bfe-4c58-ea94-1ab66f2d0315"
   },
   "outputs": [
    {
     "data": {
      "text/plain": [
       "Text(0.5, 0, 'category')"
      ]
     },
     "execution_count": 5,
     "metadata": {
      "tags": []
     },
     "output_type": "execute_result"
    },
    {
     "data": {
      "image/png": "[encoded data removed]",
      "text/plain": [
       "<Figure size 576x360 with 1 Axes>"
      ]
     },
     "metadata": {
      "tags": []
     },
     "output_type": "display_data"
    }
   ],
   "source": [
    "import matplotlib.pyplot as plt\n",
    "%matplotlib inline\n",
    "\n",
    "df_stats.plot(x='category', y='number_of_comments', kind='bar', legend=False, grid=True, figsize=(8, 5))\n",
    "plt.title(\"Number of comments per category\")\n",
    "plt.ylabel('# of Occurrences', fontsize=12)\n",
    "plt.xlabel('category', fontsize=12)"
   ]
  },
  {
   "cell_type": "code",
   "execution_count": 6,
   "metadata": {
    "colab": {
     "base_uri": "https://localhost:8080/",
     "height": 336.0
    },
    "colab_type": "code",
    "id": "TKCflwCMqtxc",
    "outputId": "6e1f5a7e-3666-4619-8e5f-1396bb5c418b"
   },
   "outputs": [
    {
     "name": "stdout",
     "output_type": "stream",
     "text": [
      "11 labels, 43 edges\n"
     ]
    },
    {
     "data": {
      "image/png": "[encoded data removed]",
      "text/plain": [
       "<Figure size 432x288 with 1 Axes>"
      ]
     },
     "metadata": {
      "tags": []
     },
     "output_type": "display_data"
    }
   ],
   "source": [
    "from skmultilearn.cluster import LabelCooccurrenceGraphBuilder\n",
    "graph_builder = LabelCooccurrenceGraphBuilder(weighted=True, include_self_edges=False)\n",
    "edge_map = graph_builder.transform(y)\n",
    "print(\"{} labels, {} edges\".format(len(label_names), len(edge_map)))\n",
    "from skmultilearn.cluster.networkx import NetworkXLabelGraphClusterer\n",
    "\n",
    "# we define a helper function for visualization purposes\n",
    "def to_membership_vector(partition):\n",
    "    return {\n",
    "        member :  partition_id\n",
    "        for partition_id, members in enumerate(partition)\n",
    "        for member in members\n",
    "    }\n",
    "clusterer = NetworkXLabelGraphClusterer(graph_builder, method='louvain')\n",
    "partition = clusterer.fit_predict(X,y)\n",
    "membership_vector = to_membership_vector(partition)\n",
    "import networkx as nx\n",
    "names_dict = dict(enumerate(x[0:3].replace('-','-\\n') for x in label_names))\n",
    "import matplotlib.pyplot as plt\n",
    "%matplotlib inline\n",
    "nx.draw(\n",
    "    clusterer.graph_,\n",
    "    pos = nx.circular_layout(clusterer.graph_),\n",
    "    labels = names_dict,\n",
    "    with_labels = True,\n",
    "    width = [1*x/y.shape[0] for x in clusterer.weights_['weight']],\n",
    "    node_color = [membership_vector[i] for i in range(y.shape[1])],\n",
    "    cmap = plt.cm.Spectral,\n",
    "    node_size = 2300,\n",
    "    font_size = 15,\n",
    "    font_color = 'white'\n",
    "    \n",
    ")"
   ]
  }
 ],
 "metadata": {
  "accelerator": "GPU",
  "colab": {
   "collapsed_sections": [],
   "machine_shape": "hm",
   "name": "PreSetE.ipynb",
   "provenance": [],
   "toc_visible": true,
   "version": "0.3.2"
  },
  "kernelspec": {
   "display_name": "Python 3",
   "language": "python",
   "name": "python3"
  },
  "language_info": {
   "codemirror_mode": {
    "name": "ipython",
    "version": 3
   },
   "file_extension": ".py",
   "mimetype": "text/x-python",
   "name": "python",
   "nbconvert_exporter": "python",
   "pygments_lexer": "ipython3",
   "version": "3.6.3"
  }
 },
 "nbformat": 4,
 "nbformat_minor": 1
}
